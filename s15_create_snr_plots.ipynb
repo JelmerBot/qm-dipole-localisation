{
 "cells": [
  {
   "cell_type": "markdown",
   "metadata": {},
   "source": [
    "# Create publication plots"
   ]
  },
  {
   "cell_type": "markdown",
   "metadata": {},
   "source": [
    "#### Configure matplotlib for final figure styles"
   ]
  },
  {
   "cell_type": "code",
   "execution_count": null,
   "metadata": {},
   "outputs": [],
   "source": [
    "%matplotlib inline\n",
    "# Configure matplotlib\n",
    "from s90_helper_functions import *\n",
    "configure_matplotlib()\n",
    "\n",
    "# Other imports\n",
    "import matplotlib.pyplot as plt\n",
    "import matplotlib as mpl\n",
    "import seaborn as sns\n",
    "import numpy as np\n",
    "import pandas as pd "
   ]
  },
  {
   "cell_type": "markdown",
   "metadata": {},
   "source": [
    "#### Read data"
   ]
  },
  {
   "cell_type": "code",
   "execution_count": null,
   "metadata": {},
   "outputs": [],
   "source": [
    "snr_data = pd.read_csv('./data/final_csv/snr.csv')"
   ]
  },
  {
   "cell_type": "markdown",
   "metadata": {},
   "source": [
    "#### SNR plots"
   ]
  },
  {
   "cell_type": "code",
   "execution_count": null,
   "metadata": {},
   "outputs": [],
   "source": [
    "# Only keep sensor 5\n",
    "sensor_number = 5\n",
    "snr = snr_data.query('sensor_number == ' + str(sensor_number))\n",
    "x_pos = (sensor_number - 1) * (0.4/7) - 0.2;\n",
    "filtered_snr = snr.query('x_source >= ' + str(x_pos - 0.1) + ' & x_source <= ' + str(x_pos + 0.1))\n",
    "\n",
    "width, height = figure_dimensions(0.8)\n",
    "fig = plt.figure(figsize=(width, height))\n",
    "plt.subplot(2, 2, 1)\n",
    "plot_spatial_heatmap('x_bin', 'y_bin', 'snr', [0, 10, 30, 50, 70, 90],\n",
    "                     data=snr.query('velocity_component == \\'x\\''))\n",
    "plt.xlabel('\\(x\\) (\\si{m})', labelpad=0)\n",
    "plt.ylabel('\\(y\\) (\\si{m})', labelpad=0)\n",
    "plt.title('$v_x$')\n",
    "\n",
    "plt.subplot(2, 2, 3, projection='polar')\n",
    "plot_orienation_heatmap('orientation_bin', 'y_bin', 'snr', \n",
    "                        [0, 10, 30, 50, 70, 90],\n",
    "                        data=filtered_snr.query('velocity_component == \\'x\\''),\n",
    "                        yticks=[0.2, 0.4])\n",
    "\n",
    "plt.subplot(2, 2, 2)\n",
    "plot_spatial_heatmap('x_bin', 'y_bin', 'snr', [0, 10, 30, 50, 70, 90],\n",
    "                     data=snr.query('velocity_component == \\'y\\''))\n",
    "plt.xlabel('\\(x\\) (\\si{m})', labelpad=0)\n",
    "plt.ylabel('\\(y\\) (\\si{m})', labelpad=0)\n",
    "plt.title('$v_y$')\n",
    "\n",
    "plt.subplot(2, 2, 4, projection='polar')\n",
    "plot_orienation_heatmap('orientation_bin', 'y_bin', 'snr', \n",
    "                        [0, 10, 30, 50, 70, 90],\n",
    "                        data=filtered_snr.query('velocity_component == \\'y\\''),\n",
    "                        yticks=[0.2, 0.4])\n",
    "fig.subplots_adjust(wspace=0.3, hspace=0.25, top=0.99, bottom=0.1, \n",
    "                    left=0.1, right=0.85)\n",
    "fix_polar_grid(fig)\n",
    "\n",
    "for idx in [2, 3]:\n",
    "    ax_pos = fig.axes[idx].get_position()\n",
    "    height = ax_pos.y1 - ax_pos.y0 +0.03\n",
    "    rect = [0.90, ax_pos.y0-0.02, 0.02, height]\n",
    "    cbar_ax = fig.add_axes(rect)\n",
    "    c = plt.colorbar(cax=cbar_ax,\n",
    "                     drawedges=True,\n",
    "                     spacing='proportional',\n",
    "                     ticks=[10, 30, 50, 70, 90])\n",
    "    c.set_label(r'SNR (\\si{dB})')\n",
    "    c.ax.tick_params(axis='y', direction='in', length=0)    \n",
    "\n",
    "fig.savefig('images/publication/snr')"
   ]
  },
  {
   "cell_type": "code",
   "execution_count": null,
   "metadata": {},
   "outputs": [],
   "source": []
  }
 ],
 "metadata": {
  "kernelspec": {
   "display_name": "Python 3",
   "language": "python",
   "name": "python3"
  },
  "language_info": {
   "codemirror_mode": {
    "name": "ipython",
    "version": 3
   },
   "file_extension": ".py",
   "mimetype": "text/x-python",
   "name": "python",
   "nbconvert_exporter": "python",
   "pygments_lexer": "ipython3",
   "version": "3.7.8"
  }
 },
 "nbformat": 4,
 "nbformat_minor": 4
}
